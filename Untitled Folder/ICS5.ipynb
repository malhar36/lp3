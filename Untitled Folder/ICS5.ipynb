{
 "cells": [
  {
   "cell_type": "code",
   "execution_count": 6,
   "id": "58fd7c05",
   "metadata": {},
   "outputs": [
    {
     "name": "stdout",
     "output_type": "stream",
     "text": [
      "Enter the coefficient 'a' of curve: 3\n",
      "Enter the coefficient 'b' of curve: 4\n",
      "Generator point:  [5, 12]\n",
      "Enter plain text iteger10001010\n",
      "Ciphertext:  [119, 10002795]\n",
      "Decrypted Plaintext:  10001010\n"
     ]
    }
   ],
   "source": [
    "import math\n",
    "import random\n",
    "\n",
    "def point(a, b):\n",
    "    \n",
    "    if(4*(a**3) + 27*(b**2))!=0:\n",
    "        x = 1\n",
    "        while True:\n",
    "            rhs = x**3 + a*x + b\n",
    "            y = int(math.sqrt(rhs))\n",
    "            lhs = y**2\n",
    "            \n",
    "            if(lhs==rhs):\n",
    "                return [x, y]\n",
    "            else:\n",
    "                x+=1\n",
    "    else:\n",
    "        print(\"Enter another coeeficient: \")\n",
    "    \n",
    "a = int(input(\"Enter the coefficient 'a' of curve: \"))\n",
    "b = int(input(\"Enter the coefficient 'b' of curve: \"))\n",
    "\n",
    "private_a = 13\n",
    "private_b = 15\n",
    "\n",
    "G = point(a,b)\n",
    "print(\"Generator point: \", G)\n",
    "\n",
    "m = int(input(\"Enter plain text iteger\"))\n",
    "\n",
    "public_key_A = [private_a*G[0], private_a*G[1]]\n",
    "public_key_B = [private_b*G[0], private_b*G[1]]\n",
    "\n",
    "k = random.randint(0,10)\n",
    "\n",
    "c1 = k*(G[0] + G[1])\n",
    "c2 = m + (k*(public_key_B[0] + public_key_B[1]))\n",
    "\n",
    "ciphertext = [c1, c2]\n",
    "print(\"Ciphertext: \", ciphertext)\n",
    "\n",
    "M = c2 - private_b*c1\n",
    "print(\"Decrypted Plaintext: \", M)"
   ]
  },
  {
   "cell_type": "code",
   "execution_count": null,
   "id": "b7506ba8",
   "metadata": {},
   "outputs": [],
   "source": []
  }
 ],
 "metadata": {
  "kernelspec": {
   "display_name": "Python 3",
   "language": "python",
   "name": "python3"
  },
  "language_info": {
   "codemirror_mode": {
    "name": "ipython",
    "version": 3
   },
   "file_extension": ".py",
   "mimetype": "text/x-python",
   "name": "python",
   "nbconvert_exporter": "python",
   "pygments_lexer": "ipython3",
   "version": "3.9.5"
  }
 },
 "nbformat": 4,
 "nbformat_minor": 5
}
