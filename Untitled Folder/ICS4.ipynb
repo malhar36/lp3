{
 "cells": [
  {
   "cell_type": "code",
   "execution_count": 4,
   "id": "8937e9b9",
   "metadata": {},
   "outputs": [
    {
     "name": "stdout",
     "output_type": "stream",
     "text": [
      "Enter p: 23\n",
      "Enter q: 37\n",
      "Enter msg atharvk11\n",
      "E text  526461731526206749789266266\n",
      "Cipher text  ȎǍ˛ȎÎ˭̕ĊĊ\n",
      "PLain text atharvk11\n"
     ]
    }
   ],
   "source": [
    "def gcd(x, y):\n",
    "    sm, lg = (x, y) if(x<y) else (y, x)\n",
    "    \n",
    "    while sm!=0:\n",
    "        temp = lg%sm\n",
    "        lg = sm\n",
    "        sm = temp\n",
    "    return lg\n",
    "\n",
    "def find_e(z):\n",
    "    # 1 < e < z\n",
    "    #gcd(e, z) ==1\n",
    "    e=2\n",
    "    while e<z:\n",
    "        if gcd(e, z) ==1:\n",
    "            return e\n",
    "        e+=1\n",
    "def find_d(e, z):\n",
    "    #de = 1modz\n",
    "    # 1 < d < z\n",
    "    d = 2\n",
    "    while d < z:\n",
    "        if((d*e) % z) ==1:\n",
    "            return d\n",
    "        d+=1\n",
    "\n",
    "\n",
    "p = int(input(\"Enter p: \"))\n",
    "q = int(input(\"Enter q: \"))\n",
    "msg = input(\"Enter msg \")\n",
    "\n",
    "n = p*q\n",
    "z = (p-1)*(q-1)\n",
    "\n",
    "e = find_e(z)\n",
    "d = find_d(e, z)\n",
    "\n",
    "cipher_text = ''\n",
    "plain_text = ''\n",
    "encrpy = ''\n",
    "\n",
    "for ch in msg:\n",
    "    ch = ord(ch)\n",
    "    cipher_text+=chr((ch**e)%n)\n",
    "    encrpy+=str((ch**e)%n)\n",
    "\n",
    "print(\"E text \", encrpy)\n",
    "print(\"Cipher text \", cipher_text)\n",
    "\n",
    "for ch in cipher_text:\n",
    "    ch = ord(ch)\n",
    "    plain_text+=chr((ch**d)%n)\n",
    "    \n",
    "print(\"PLain text\", plain_text)"
   ]
  },
  {
   "cell_type": "code",
   "execution_count": null,
   "id": "d0660da8",
   "metadata": {},
   "outputs": [],
   "source": []
  },
  {
   "cell_type": "code",
   "execution_count": null,
   "id": "713fdd4a",
   "metadata": {},
   "outputs": [],
   "source": []
  }
 ],
 "metadata": {
  "kernelspec": {
   "display_name": "Python 3",
   "language": "python",
   "name": "python3"
  },
  "language_info": {
   "codemirror_mode": {
    "name": "ipython",
    "version": 3
   },
   "file_extension": ".py",
   "mimetype": "text/x-python",
   "name": "python",
   "nbconvert_exporter": "python",
   "pygments_lexer": "ipython3",
   "version": "3.9.5"
  }
 },
 "nbformat": 4,
 "nbformat_minor": 5
}
