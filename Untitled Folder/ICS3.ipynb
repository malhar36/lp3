{
 "cells": [
  {
   "cell_type": "code",
   "execution_count": 2,
   "id": "f78402b4",
   "metadata": {},
   "outputs": [
    {
     "name": "stdout",
     "output_type": "stream",
     "text": [
      "Diffie-Hellman Key Exchange\n",
      "\n",
      "Enter Modulus: 23\n",
      "Enter Base: 9\n",
      "Modulus choosen:  23\n",
      "Base choosen:  9\n",
      "Enter private key for A: 3\n",
      "Enter private key for B: 4\n",
      "A's calculated value: 16\n",
      "B's calculated value: 6\n",
      "A's secret key: 9\n",
      "B's secret key: 9\n"
     ]
    }
   ],
   "source": [
    "import random\n",
    "def algorithm():\n",
    "    print(\"Diffie-Hellman Key Exchange\\n\")\n",
    "    \n",
    "    P = int(input(\"Enter Modulus: \"))\n",
    "    G = int(input(\"Enter Base: \"))\n",
    "    \n",
    "    print(\"Modulus choosen: \", P)\n",
    "    print(\"Base choosen: \", G)\n",
    "    \n",
    "    Xa = int(input(\"Enter private key for A: \"))\n",
    "    Xb = int(input(\"Enter private key for B: \"))\n",
    "    \n",
    "    Ya = pow(G, Xa, P)\n",
    "    Yb = pow(G, Xb, P)\n",
    "    \n",
    "    print(\"A's calculated value:\", Ya)\n",
    "    print(\"B's calculated value:\", Yb)\n",
    "    \n",
    "    k1 = pow(Yb, Xa, P)\n",
    "    k2 = pow(Ya, Xb, P)\n",
    "    \n",
    "    print(\"A's secret key:\", k1)\n",
    "    print(\"B's secret key:\", k2)\n",
    "\n",
    "\n",
    "if __name__ =='__main__':\n",
    "    algorithm()"
   ]
  },
  {
   "cell_type": "code",
   "execution_count": null,
   "id": "46218220",
   "metadata": {},
   "outputs": [],
   "source": []
  }
 ],
 "metadata": {
  "kernelspec": {
   "display_name": "Python 3",
   "language": "python",
   "name": "python3"
  },
  "language_info": {
   "codemirror_mode": {
    "name": "ipython",
    "version": 3
   },
   "file_extension": ".py",
   "mimetype": "text/x-python",
   "name": "python",
   "nbconvert_exporter": "python",
   "pygments_lexer": "ipython3",
   "version": "3.9.5"
  }
 },
 "nbformat": 4,
 "nbformat_minor": 5
}
