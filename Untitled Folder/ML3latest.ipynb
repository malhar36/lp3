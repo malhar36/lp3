{
 "cells": [
  {
   "cell_type": "code",
   "execution_count": 10,
   "id": "07f0c1dd",
   "metadata": {},
   "outputs": [
    {
     "name": "stdout",
     "output_type": "stream",
     "text": [
      "[[2.0, 'Orange'], [2.0, 'Orange'], [2.8284271247461903, 'Blue'], [4.0, 'Blue'], [4.47213595499958, 'Orange'], [4.47213595499958, 'Orange']]\n",
      "[[2.0, 'Orange'], [2.0, 'Orange'], [2.8284271247461903, 'Blue']]\n",
      "Weights :  {'Orange': 1.0, 'Blue': 0.35355339059327373}\n",
      "Frequency :  {'Orange': 2, 'Blue': 1}\n",
      "{'Orange': 0.5, 'Blue': 0.35355339059327373}\n",
      "['Orange']\n"
     ]
    }
   ],
   "source": [
    "x = [[2,4],[4,2],[4,6],[6,4],[4,4],[6,2]]\n",
    "y = [\"Orange\",\"Orange\",\"Orange\",\"Orange\",\"Blue\",\"Blue\"]\n",
    "test = [[6,6]]\n",
    "import math\n",
    "import numpy as np\n",
    "\n",
    "def distance(p1, p2):\n",
    "    d = 0\n",
    "    d = (p1[0] - p2[0])**2 + (p1[1] - p2[1])**2\n",
    "    return math.sqrt(d)\n",
    "\n",
    "\n",
    "def KNN(k, tests,type=\"auto\"):\n",
    "    results = []\n",
    "    distances = []\n",
    "#     for test in tests:\n",
    "#         d\n",
    "    for i in range(len(x)):\n",
    "        distances.append([distance(x[i], test[0]), y[i]])\n",
    "    distances.sort(key = lambda x: x[0])\n",
    "    print(distances)\n",
    "    distances = distances[:k]\n",
    "    print(distances)\n",
    "    \n",
    "    if type==\"auto\":\n",
    "        results.append(max(distances, key = lambda x:x[1])[1])\n",
    "        print(results)\n",
    "    elif type==\"weighted_knn\":\n",
    "        freq = {}\n",
    "        w = {}\n",
    "        \n",
    "        for d in distances:\n",
    "            w[d[1]] = w.get(d[1], 0.0) + float(1/d[0])\n",
    "            freq[d[1]] =freq.get(d[1], 0) + 1\n",
    "        print('Weights : ',w)\n",
    "        print('Frequency : ',freq)\n",
    "        \n",
    "        results.append(max(w, key = lambda x: x[1]))\n",
    "        print(results)\n",
    "    elif type==\"locally_weighted_avg\":\n",
    "        freq = {}\n",
    "        w = {}\n",
    "        \n",
    "        for d in distances:\n",
    "            w[d[1]] = w.get(d[1], 0.0) + float(1/d[0])\n",
    "            freq[d[1]] =freq.get(d[1], 0) + 1\n",
    "        print('Weights : ',w)\n",
    "        print('Frequency : ',freq)\n",
    "        \n",
    "        for x1 in w:\n",
    "            w[x1]/=freq[x1]\n",
    "        print(w)\n",
    "        results.append(max(w, key = lambda x: x[1]))\n",
    "        print(results)\n",
    "#     elif\n",
    "KNN(3, test, \"locally_weighted_avg\")\n",
    "        \n",
    "    "
   ]
  },
  {
   "cell_type": "code",
   "execution_count": null,
   "id": "7cca0ecf",
   "metadata": {},
   "outputs": [],
   "source": []
  },
  {
   "cell_type": "code",
   "execution_count": null,
   "id": "c469d8c5",
   "metadata": {},
   "outputs": [],
   "source": []
  }
 ],
 "metadata": {
  "kernelspec": {
   "display_name": "Python 3",
   "language": "python",
   "name": "python3"
  },
  "language_info": {
   "codemirror_mode": {
    "name": "ipython",
    "version": 3
   },
   "file_extension": ".py",
   "mimetype": "text/x-python",
   "name": "python",
   "nbconvert_exporter": "python",
   "pygments_lexer": "ipython3",
   "version": "3.9.5"
  }
 },
 "nbformat": 4,
 "nbformat_minor": 5
}
