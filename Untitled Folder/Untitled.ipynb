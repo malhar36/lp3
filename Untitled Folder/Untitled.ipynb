{
 "cells": [
  {
   "cell_type": "code",
   "execution_count": 10,
   "id": "4f576125",
   "metadata": {},
   "outputs": [
    {
     "name": "stdout",
     "output_type": "stream",
     "text": [
      "29\n",
      "53\n",
      "malhar\n",
      "Encrypted (Cypher text) :  ͫӐ΍ԥӐօ\n",
      "Decrypted (Plain text) :  malhar\n"
     ]
    }
   ],
   "source": [
    "def rsa_algo(p: int,q: int, msg: str):\n",
    "    # n = pq\n",
    "    n = p * q\n",
    "    # z = (p-1)(q-1)\n",
    "    z = (p-1)*(q-1)\n",
    "\n",
    "    # e -> gcd(e,z)==1      ; 1 < e < z\n",
    "    # d -> ed = 1(mod z)        ; 1 < d < z\n",
    "    e = find_e(z)\n",
    "    d = find_d(e, z)\n",
    "\n",
    "    # Convert Plain Text -> Cypher Text\n",
    "    cypher_text = ''\n",
    "    # C = (P ^ e) % n\n",
    "    for ch in msg:\n",
    "        # convert the Character to ascii (ord)\n",
    "        ch = ord(ch)\n",
    "        # encrypt the char and add to cypher text\n",
    "        # convert the calculated value to Characters(chr)\n",
    "        cypher_text += chr((ch ** e) % n)\n",
    "\n",
    "    # Convert Plain Text -> Cypher Text\n",
    "    plain_text = ''\n",
    "    # P = (C ^ d) % n\n",
    "    for ch in cypher_text:\n",
    "        # convert it to ascii\n",
    "        ch = ord(ch)\n",
    "        # decrypt the char and add to plain text\n",
    "        # convert the calculated value to Characters(chr)\n",
    "        plain_text += chr((ch ** d) % n)\n",
    "\n",
    "    return cypher_text, plain_text\n",
    "\n",
    "def find_e(z: int):\n",
    "    # e -> gcd(e,z)==1      ; 1 < e < z\n",
    "    e = 2\n",
    "    while e < z:\n",
    "        # check if this is the required `e` value\n",
    "        if gcd(e, z)==1:\n",
    "            return e\n",
    "        # else : increment and continue\n",
    "        e += 1\n",
    "\n",
    "def find_d(e: int, z: int):\n",
    "    # d -> ed = 1(mod z)        ; 1 < d < z\n",
    "    d = 2\n",
    "    while d < z:\n",
    "        # check if this is the required `d` value\n",
    "        if ((d*e) % z)==1:\n",
    "            return d\n",
    "        # else : increment and continue\n",
    "        d += 1\n",
    "\n",
    "def gcd(x: int, y: int):\n",
    "    # GCD by Euclidean method\n",
    "    small,large = (x,y) if x<y else (y,x)\n",
    "\n",
    "    while small != 0:\n",
    "        temp = large % small\n",
    "        large = small\n",
    "        small = temp\n",
    "\n",
    "    return large\n",
    "\n",
    "\n",
    "#main\n",
    "if __name__ == \"__main__\":\n",
    "    p = int(input())\n",
    "    q = int(input())\n",
    "#     p,q = map(int, input().split())\n",
    "    msg = input()\n",
    "\n",
    "    cypher_text, plain_text = rsa_algo(p, q, msg)\n",
    "\n",
    "    print(\"Encrypted (Cypher text) : \", cypher_text)\n",
    "    print(\"Decrypted (Plain text) : \", plain_text)"
   ]
  },
  {
   "cell_type": "code",
   "execution_count": null,
   "id": "d9853986",
   "metadata": {},
   "outputs": [],
   "source": []
  },
  {
   "cell_type": "code",
   "execution_count": null,
   "id": "7c682030",
   "metadata": {},
   "outputs": [],
   "source": []
  }
 ],
 "metadata": {
  "kernelspec": {
   "display_name": "Python 3",
   "language": "python",
   "name": "python3"
  },
  "language_info": {
   "codemirror_mode": {
    "name": "ipython",
    "version": 3
   },
   "file_extension": ".py",
   "mimetype": "text/x-python",
   "name": "python",
   "nbconvert_exporter": "python",
   "pygments_lexer": "ipython3",
   "version": "3.9.5"
  }
 },
 "nbformat": 4,
 "nbformat_minor": 5
}
