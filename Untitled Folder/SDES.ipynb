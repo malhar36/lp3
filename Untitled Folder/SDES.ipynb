{
 "cells": [
  {
   "cell_type": "code",
   "execution_count": 16,
   "id": "4b227b5f",
   "metadata": {},
   "outputs": [],
   "source": [
    "FIXED_IP = [2, 6, 3, 1, 4, 8, 5, 7]\n",
    "FIXED_EP = [4, 1, 2, 3, 2, 3, 4, 1]\n",
    "FIXED_IP_INVERSE = [4, 1, 3, 5, 7, 2, 8, 6]\n",
    "FIXED_P10 = [3, 5, 2, 7, 4, 10, 1, 9, 8, 6]\n",
    "FIXED_P8 = [6, 3, 7, 4, 8, 5, 10, 9]\n",
    "FIXED_P4 = [2, 4, 3, 1]\n",
    "\n",
    "S0 = [[1, 0, 3, 2],\n",
    "      [3, 2, 1, 0],\n",
    "      [0, 2, 1, 3],\n",
    "      [3, 1, 3, 2]]\n",
    "\n",
    "S1 = [[0, 1, 2, 3],\n",
    "      [2, 0, 1, 3],\n",
    "      [3, 0, 1, 0],\n",
    "      [2, 1, 0, 3]]\n",
    "\n",
    "key = '0111111101'\n",
    "\n",
    "def permutate(original, fixed_key):\n",
    "    new = ''\n",
    "    for i in fixed_key:\n",
    "        new+= original[i - 1]\n",
    "    return new\n",
    "# 10110 00010\n",
    "\n",
    "\n",
    "def shift(original):\n",
    "    rotated_left_half = original[1 : int(len(original)/2)] + original[0]\n",
    "    rotated_right_half = original[int(len(original)/2) + 1 : ] + original[int(len(original)/2) + 1]\n",
    "#     print(rotated_left_half + \"\\n\")\n",
    "#     print(rotated_right_half + \"\\n\")\n",
    "    return rotated_left_half + rotated_right_half\n",
    "\n",
    "def key1():\n",
    "    return permutate(shift(permutate(key, FIXED_P10)), FIXED_P8)\n",
    "\n",
    "def key2():\n",
    "    return permutate(shift(shift(shift(permutate(key, FIXED_P10)))), FIXED_P8)\n",
    "\n",
    "def xor(s1, s2):\n",
    "    new = ''\n",
    "    for i in range(len(s1)):\n",
    "        new+= str((int(s1[i]) + int(s2[i]))%2)\n",
    "    return new\n",
    "\n",
    "def lookup_in_sbox(string, sbox):\n",
    "    row = int(string[0] + string[3], 2)\n",
    "    col = int(string[1] + string[2], 2)\n",
    "    \n",
    "    return '{0:02b}'.format(sbox[row][col])\n",
    "\n",
    "def f_k(original, key):\n",
    "    L = original[: int(len(original)/2)]\n",
    "    R = original[int(len(original)/2): ]\n",
    "    \n",
    "    expanded_bits = permutate(R, FIXED_EP)\n",
    "    xored_bits = xor(expanded_bits, key)\n",
    "    \n",
    "    left_half = xored_bits[: int(len(xored_bits)/2)]\n",
    "    right_half = xored_bits[int(len(xored_bits)/2): ]\n",
    "    \n",
    "    string = lookup_in_sbox(left_half, S0) + lookup_in_sbox(right_half, S1)\n",
    "    permutated_4 = permutate(string, FIXED_P4)\n",
    "    return xor(permutated_4, L)\n",
    "\n",
    "def encrypt(string):\n",
    "    IP_string = permutate(string, FIXED_IP)\n",
    "    temp = f_k(IP_string, key1())\n",
    "    IP2_string = IP_string[int(len(IP_string)/2): ] + temp\n",
    "    new_temp = f_k(IP2_string, key2())\n",
    "    print(permutate(new_temp + temp, FIXED_IP_INVERSE))"
   ]
  },
  {
   "cell_type": "code",
   "execution_count": 17,
   "id": "243a0599",
   "metadata": {},
   "outputs": [
    {
     "name": "stdout",
     "output_type": "stream",
     "text": [
      "01001111\n"
     ]
    }
   ],
   "source": [
    "encrypt(\"11101010\")"
   ]
  },
  {
   "cell_type": "code",
   "execution_count": 3,
   "id": "60522bf2",
   "metadata": {},
   "outputs": [
    {
     "name": "stdout",
     "output_type": "stream",
     "text": [
      "01101\n",
      "\n",
      "00100\n",
      "\n"
     ]
    }
   ],
   "source": [
    "def shift(original):\n",
    "    rotated_left_half = original[1 : int(len(original)/2)] + original[0]\n",
    "    rotated_right_half = original[int(len(original)/2) + 1 : ] + original[int(len(original)/2) + 1]\n",
    "    print(rotated_left_half + \"\\n\")\n",
    "    print(rotated_right_half + \"\\n\") \n",
    "shift(\"1011000010\")"
   ]
  },
  {
   "cell_type": "code",
   "execution_count": 10,
   "id": "8c28c76b",
   "metadata": {},
   "outputs": [
    {
     "name": "stdout",
     "output_type": "stream",
     "text": [
      "key1:  01011111\n",
      "key2:  11111100\n",
      "10100010\n",
      "11101010\n"
     ]
    }
   ],
   "source": [
    "FIXED_IP = [2, 6, 3, 1, 4, 8, 5, 7]\n",
    "FIXED_EP = [4, 1, 2, 3, 2, 3, 4, 1]\n",
    "FIXED_IP_INVERSE = [4, 1, 3, 5, 7, 2, 8, 6]\n",
    "FIXED_P10 = [3, 5, 2, 7, 4, 10, 1, 9, 8, 6]\n",
    "FIXED_P8 = [6, 3, 7, 4, 8, 5, 10, 9]\n",
    "FIXED_P4 = [2, 4, 3, 1]\n",
    "\n",
    "S0 = [[1, 0, 3, 2],\n",
    "      [3, 2, 1, 0],\n",
    "      [0, 2, 1, 3],\n",
    "      [3, 1, 3, 2]]\n",
    "\n",
    "S1 = [[0, 1, 2, 3],\n",
    "      [2, 0, 1, 3],\n",
    "      [3, 0, 1, 0],\n",
    "      [2, 1, 0, 3]]\n",
    "\n",
    "KEY = '0111111101'\n",
    "\n",
    "\n",
    "def permutate(original, fixed_key):\n",
    "    new = ''\n",
    "    for i in fixed_key:\n",
    "        new += original[i - 1]\n",
    "    return new\n",
    "\n",
    "\n",
    "def left_half(bits):\n",
    "    return bits[:int(len(bits)/2)]\n",
    "\n",
    "\n",
    "def right_half(bits):\n",
    "    return bits[int(len(bits)/2):]\n",
    "\n",
    "\n",
    "def shift(bits):\n",
    "    rotated_left_half = left_half(bits)[1:] + left_half(bits)[0]\n",
    "    rotated_right_half = right_half(bits)[1:] + right_half(bits)[0]\n",
    "    return rotated_left_half + rotated_right_half\n",
    "\n",
    "\n",
    "def key1():\n",
    "    return permutate(shift(permutate(KEY, FIXED_P10)), FIXED_P8)\n",
    "\n",
    "\n",
    "def key2():\n",
    "    return permutate(shift(shift(shift(permutate(KEY, FIXED_P10)))), FIXED_P8)\n",
    "\n",
    "\n",
    "def xor(bits, key):\n",
    "    new = ''\n",
    "    for bit, key_bit in zip(bits, key):\n",
    "        new += str((int(bit) + int(key_bit)) % 2)\n",
    "    return new\n",
    "\n",
    "\n",
    "def lookup_in_sbox(bits, sbox):\n",
    "    row = int(bits[0] + bits[3], 2)\n",
    "    col = int(bits[1] + bits[2], 2)\n",
    "    return '{0:02b}'.format(sbox[row][col])\n",
    "\n",
    "\n",
    "def f_k(bits, key):\n",
    "    L = left_half(bits)\n",
    "    R = right_half(bits)\n",
    "    bits = permutate(R, FIXED_EP)\n",
    "    bits = xor(bits, key)\n",
    "    bits = lookup_in_sbox(left_half(bits), S0) + lookup_in_sbox(right_half(bits), S1)\n",
    "    bits = permutate(bits, FIXED_P4)\n",
    "    return xor(bits, L)\n",
    "\n",
    "\n",
    "def encrypt(plain_text):\n",
    "    print(\"key1: \", key1())\n",
    "    print(\"key2: \", key2())\n",
    "    \n",
    "    bits = permutate(plain_text, FIXED_IP)\n",
    "    temp = f_k(bits, key1())\n",
    "    bits = right_half(bits) + temp\n",
    "    bits = f_k(bits, key2())\n",
    "    print(permutate(bits + temp, FIXED_IP_INVERSE))\n",
    "\n",
    "\n",
    "def decrypt(cipher_text):\n",
    "    bits = permutate(cipher_text, FIXED_IP)\n",
    "    temp = f_k(bits, key2())\n",
    "    bits = right_half(bits) + temp\n",
    "    bits = f_k(bits, key1())\n",
    "    print(permutate(bits + temp, FIXED_IP_INVERSE))\n",
    "\n",
    "\n",
    "encrypt('11101010')\n",
    "decrypt('10100010')"
   ]
  },
  {
   "cell_type": "code",
   "execution_count": 2,
   "id": "5ef4a778",
   "metadata": {},
   "outputs": [
    {
     "name": "stdout",
     "output_type": "stream",
     "text": [
      "110110\n"
     ]
    }
   ],
   "source": [
    "def xor(s1, s2):\n",
    "    new = ''\n",
    "    for i in range(len(s1)):\n",
    "        new+= str((int(s1[i]) + int(s2[i]))%2)\n",
    "    return new\n",
    "print(xor(\"101010\", \"011100\"))"
   ]
  },
  {
   "cell_type": "code",
   "execution_count": 3,
   "id": "a549da95",
   "metadata": {},
   "outputs": [
    {
     "name": "stdout",
     "output_type": "stream",
     "text": [
      "110110\n"
     ]
    }
   ],
   "source": [
    "def xor(s1, s2):\n",
    "    new = ''\n",
    "    for i in range(len(s1)):\n",
    "        new+= str((int(s1[i]) + int(s2[i]))%2)\n",
    "    return new\n",
    "print(xor(\"101010\", \"011100\"))"
   ]
  },
  {
   "cell_type": "code",
   "execution_count": 20,
   "id": "17b2738b",
   "metadata": {},
   "outputs": [
    {
     "name": "stdout",
     "output_type": "stream",
     "text": [
      "10100010\n",
      "11101010\n"
     ]
    }
   ],
   "source": [
    "FIXED_IP = [2, 6, 3, 1, 4, 8, 5, 7]\n",
    "FIXED_EP = [4, 1, 2, 3, 2, 3, 4, 1]\n",
    "FIXED_IP_INVERSE = [4, 1, 3, 5, 7, 2, 8, 6]\n",
    "FIXED_P10 = [3, 5, 2, 7, 4, 10, 1, 9, 8, 6]\n",
    "FIXED_P8 = [6, 3, 7, 4, 8, 5, 10, 9]\n",
    "FIXED_P4 = [2, 4, 3, 1]\n",
    "\n",
    "S0 = [[1, 0, 3, 2],\n",
    "      [3, 2, 1, 0],\n",
    "      [0, 2, 1, 3],\n",
    "      [3, 1, 3, 2]]\n",
    "\n",
    "S1 = [[0, 1, 2, 3],\n",
    "      [2, 0, 1, 3],\n",
    "      [3, 0, 1, 0],\n",
    "      [2, 1, 0, 3]]\n",
    "\n",
    "key = '0111111101'\n",
    "#        1       9\n",
    "def permutate(st, fixed):\n",
    "    new = ''\n",
    "    for i in fixed:\n",
    "        new+=st[i-1]\n",
    "    return new\n",
    "\n",
    "def left_half(st):\n",
    "    return st[ : int(len(st)/2)]\n",
    "def right_half(st):\n",
    "    return st[int(len(st)/2) : ]\n",
    "\n",
    "\n",
    "def shift(st):\n",
    "    rotated_left = left_half(st)[1:] + left_half(st)[0]\n",
    "    rotated_right = right_half(st)[1:] + right_half(st)[0]\n",
    "    return rotated_left + rotated_right\n",
    "    \n",
    "    \n",
    "def key1():\n",
    "    return permutate(shift(permutate(key, FIXED_P10)), FIXED_P8)\n",
    "def key2():\n",
    "    return permutate(shift(shift(shift(permutate(key, FIXED_P10)))), FIXED_P8)\n",
    "\n",
    "def xor(s1, s2):\n",
    "    new=''\n",
    "    for i in range(len(s1)):\n",
    "        new+=str((int(s1[i]) + int(s2[i]))%2)\n",
    "    return new\n",
    "\n",
    "def lookin_sbox(st, sbox):\n",
    "    row = int(st[0] + st[3], 2)\n",
    "    col = int(st[1] + st[2], 2)\n",
    "    return '{0:02b}'.format(sbox[row][col])\n",
    "    \n",
    "def f_k(st, key):\n",
    "    L = left_half(st)\n",
    "    R = right_half(st)\n",
    "    \n",
    "    ep_t = permutate(R, FIXED_EP)\n",
    "    xored_t = xor(ep_t, key)\n",
    "    after_s = lookin_sbox(left_half(xored_t), S0) + lookin_sbox(right_half(xored_t), S1)\n",
    "    p4_t = permutate(after_s, FIXED_P4)\n",
    "    return xor(L, p4_t)\n",
    "\n",
    "def encrypt(plaint):\n",
    "    ip_t = permutate(plaint, FIXED_IP)\n",
    "    f_k_1 = f_k(ip_t, key1())\n",
    "    ip_t2 = right_half(ip_t) + f_k_1\n",
    "    f_k_2 = f_k(ip_t2, key2())\n",
    "    return (permutate(f_k_2 + f_k_1, FIXED_IP_INVERSE))\n",
    "    \n",
    "def decrypt(ct):\n",
    "    ip_t = permutate(ct, FIXED_IP)\n",
    "    f_k_1 = f_k(ip_t, key2())\n",
    "    ip_t2 = right_half(ip_t) + f_k_1\n",
    "    f_k_2 = f_k(ip_t2, key1())\n",
    "    return (permutate(f_k_2 + f_k_1, FIXED_IP_INVERSE))\n",
    "\n",
    "ct = encrypt('11101010')\n",
    "pt = decrypt(ct)\n",
    "print(ct)\n",
    "print(pt)"
   ]
  },
  {
   "cell_type": "code",
   "execution_count": 7,
   "id": "e77d40c1",
   "metadata": {},
   "outputs": [
    {
     "data": {
      "text/plain": [
       "'00110100'"
      ]
     },
     "execution_count": 7,
     "metadata": {},
     "output_type": "execute_result"
    }
   ],
   "source": [
    "def shift(st):\n",
    "    rotated_left = left_half(st)[1:] + left_half(st)[0]\n",
    "    rotated_right = right_half(st)[1:] + right_half(st)[0]\n",
    "    return rotated_left + rotated_right\n",
    "shift(\"1001 0010\")"
   ]
  },
  {
   "cell_type": "code",
   "execution_count": 12,
   "id": "582a023a",
   "metadata": {},
   "outputs": [
    {
     "name": "stdout",
     "output_type": "stream",
     "text": [
      "01011111\n",
      "11111100\n"
     ]
    }
   ],
   "source": [
    "def key1():\n",
    "    return permutate(shift(permutate(key, FIXED_P10)), FIXED_P8)\n",
    "def key2():\n",
    "    return permutate(shift(shift(shift(permutate(key, FIXED_P10)))), FIXED_P8)\n",
    "\n",
    "print(key1())\n",
    "print(key2())"
   ]
  },
  {
   "cell_type": "code",
   "execution_count": 17,
   "id": "e4467c2b",
   "metadata": {},
   "outputs": [
    {
     "data": {
      "text/plain": [
       "'00000000'"
      ]
     },
     "execution_count": 17,
     "metadata": {},
     "output_type": "execute_result"
    }
   ],
   "source": [
    "def xor(s1, s2):\n",
    "    new=''\n",
    "    for i in range(len(s1)):\n",
    "        new+=str((int(s1[i]) + int(s2[i]))%2)\n",
    "    return new\n",
    "xor(\"01011111\", \"01011111\")"
   ]
  },
  {
   "cell_type": "code",
   "execution_count": null,
   "id": "4a24bb94",
   "metadata": {},
   "outputs": [],
   "source": []
  }
 ],
 "metadata": {
  "kernelspec": {
   "display_name": "Python 3",
   "language": "python",
   "name": "python3"
  },
  "language_info": {
   "codemirror_mode": {
    "name": "ipython",
    "version": 3
   },
   "file_extension": ".py",
   "mimetype": "text/x-python",
   "name": "python",
   "nbconvert_exporter": "python",
   "pygments_lexer": "ipython3",
   "version": "3.9.5"
  }
 },
 "nbformat": 4,
 "nbformat_minor": 5
}
