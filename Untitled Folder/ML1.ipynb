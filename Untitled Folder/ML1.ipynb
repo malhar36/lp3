{
 "cells": [
  {
   "cell_type": "code",
   "execution_count": 1,
   "id": "72c06504",
   "metadata": {},
   "outputs": [
    {
     "data": {
      "text/plain": [
       "<matplotlib.collections.PathCollection at 0x1f5533b22b0>"
      ]
     },
     "execution_count": 1,
     "metadata": {},
     "output_type": "execute_result"
    },
    {
     "data": {
      "image/png": "[encoded data removed]",
      "text/plain": [
       "<Figure size 432x288 with 1 Axes>"
      ]
     },
     "metadata": {
      "needs_background": "light"
     },
     "output_type": "display_data"
    }
   ],
   "source": [
    "import numpy as np\n",
    "import matplotlib.pyplot as plt\n",
    "\n",
    "x = np.array([10, 9, 2, 15, 10, 16, 11, 16])\n",
    "y = np.array([95, 80, 10, 50, 45, 98, 38, 93])\n",
    "\n",
    "mean_x = np.mean(x)\n",
    "mean_y = np.mean(y)\n",
    "\n",
    "plt.xlabel('No of hrs')\n",
    "plt.ylabel('Risk scoa')\n",
    "plt.scatter(x, y, color='r', marker='o')"
   ]
  },
  {
   "cell_type": "code",
   "execution_count": 7,
   "id": "8daba148",
   "metadata": {},
   "outputs": [
    {
     "name": "stdout",
     "output_type": "stream",
     "text": [
      "y = 4.58789860997547x + 12.584627964022893\n"
     ]
    }
   ],
   "source": [
    "def coeff(x, y):\n",
    "    b1=0\n",
    "    num=0\n",
    "    dem=0\n",
    "    \n",
    "    for i in range(len(x)):\n",
    "        num+=(x[i]-mean_x)*(y[i] - mean_y)\n",
    "        dem+=(x[i]-mean_x)**2\n",
    "        \n",
    "    b1 = num/dem\n",
    "    b = mean_y - b1*mean_x\n",
    "    return [b, b1]\n",
    "\n",
    "b0, b1 = coeff(x, y)\n",
    "print('y = '+ str(b1) + 'x + '+ str(b0))"
   ]
  },
  {
   "cell_type": "code",
   "execution_count": 8,
   "id": "d53c8f16",
   "metadata": {},
   "outputs": [
    {
     "data": {
      "text/plain": [
       "[<matplotlib.lines.Line2D at 0x1f55359a820>]"
      ]
     },
     "execution_count": 8,
     "metadata": {},
     "output_type": "execute_result"
    },
    {
     "data": {
      "image/png": "[encoded data removed]",
      "text/plain": [
       "<Figure size 432x288 with 1 Axes>"
      ]
     },
     "metadata": {
      "needs_background": "light"
     },
     "output_type": "display_data"
    }
   ],
   "source": [
    "plt.xlabel('No of hours')\n",
    "plt.ylabel('Risk')\n",
    "plt.scatter(x,y,color='Red',marker='+')\n",
    "plt.plot(x, b0 + b1*x, color='b')"
   ]
  },
  {
   "cell_type": "code",
   "execution_count": null,
   "id": "b3e536a6",
   "metadata": {},
   "outputs": [],
   "source": []
  }
 ],
 "metadata": {
  "kernelspec": {
   "display_name": "Python 3",
   "language": "python",
   "name": "python3"
  },
  "language_info": {
   "codemirror_mode": {
    "name": "ipython",
    "version": 3
   },
   "file_extension": ".py",
   "mimetype": "text/x-python",
   "name": "python",
   "nbconvert_exporter": "python",
   "pygments_lexer": "ipython3",
   "version": "3.9.5"
  }
 },
 "nbformat": 4,
 "nbformat_minor": 5
}
