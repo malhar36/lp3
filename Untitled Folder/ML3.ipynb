{
 "cells": [
  {
   "cell_type": "code",
   "execution_count": null,
   "id": "502456ac",
   "metadata": {},
   "outputs": [],
   "source": [
    "import math\n",
    "x = [[2,4], [4, 4], [4, 6], [4, 2], [6, 2], [6, 4]]\n",
    "y = [\"O\", \"B\", \"O\", \"O\", \"B\", \"O\"]\n",
    "test = [[6, 6]]\n",
    "\n",
    "\n",
    "\n",
    "def KNN(x, y, test, k:int = 3):\n",
    "    "
   ]
  }
 ],
 "metadata": {
  "kernelspec": {
   "display_name": "Python 3",
   "language": "python",
   "name": "python3"
  },
  "language_info": {
   "codemirror_mode": {
    "name": "ipython",
    "version": 3
   },
   "file_extension": ".py",
   "mimetype": "text/x-python",
   "name": "python",
   "nbconvert_exporter": "python",
   "pygments_lexer": "ipython3",
   "version": "3.9.5"
  }
 },
 "nbformat": 4,
 "nbformat_minor": 5
}
