{
 "cells": [
  {
   "cell_type": "code",
   "execution_count": 2,
   "id": "b4776b9a",
   "metadata": {},
   "outputs": [],
   "source": [
    "import math\n",
    "x = [[2,4], [4, 4], [4, 6], [4, 2], [6, 2], [6, 4]]\n",
    "y = [\"O\", \"B\", \"O\", \"O\", \"B\", \"O\"]\n",
    "test = [[6, 6]]"
   ]
  },
  {
   "cell_type": "code",
   "execution_count": 16,
   "id": "fb872588",
   "metadata": {},
   "outputs": [],
   "source": [
    "class KNN:\n",
    "    def __init__(self, k:int = 2, algo = 'auto'):\n",
    "        self.k = k\n",
    "        self.x = []\n",
    "        self.y = []\n",
    "        self.algo = algo\n",
    "\n",
    "    def fit(self, x, y):\n",
    "        self.x = x\n",
    "        self.y = y\n",
    "    \n",
    "    def get_dist(self, p1, p2):\n",
    "        x1, y1 = p1\n",
    "        x2, y2 = p2\n",
    "        return math.sqrt((x1 - x2)**2 + (y1 - y2)**2)\n",
    "    \n",
    "    \n",
    "    def auto_knn(self, test, distances):\n",
    "        return max((distances), key = lambda tup: tup[1])[1]\n",
    "    \n",
    "    def weighted_knn(self, test, distances, local:bool = False):\n",
    "        freq = {}\n",
    "        weights = {}\n",
    "        \n",
    "        for i in distances:\n",
    "            weights[i[1]] = float(1/i[0])\n",
    "            freq[i[1]] = freq.get(i[1], 0) + 1\n",
    "            \n",
    "        print(weights)\n",
    "        print(freq)\n",
    "        \n",
    "        if local:\n",
    "            for w in weights:\n",
    "                weights[w]/=freq[w]\n",
    "            print(weights)\n",
    "#         return max()\n",
    "    \n",
    "    \n",
    "    def distance_weighted_knn(self, test, distance):\n",
    "        return self.weighted_knn(test, distance)\n",
    "    \n",
    "    def locally_weighted_avg_knn(self, test, distance):\n",
    "        return self.weighted_knn(test, distance, local=True)\n",
    "    \n",
    "    \n",
    "    \n",
    "    def predict(self, tests):\n",
    "        results = []\n",
    "        \n",
    "        for test in tests:\n",
    "            distances = []\n",
    "            \n",
    "            for i in range(len(self.x)):\n",
    "                distances.append([self.get_dist(self.x[i],test), self.y[i]])\n",
    "                \n",
    "            distances.sort(key = lambda tup : tup[0])\n",
    "            distances = distances[:self.k]\n",
    "            print(\"Nearest K Negi: \", distances)\n",
    "#             print(distances[:self.k])\n",
    "\n",
    "        results.append(getattr(self, self.algo + '_knn')(test, distances))\n",
    "        return results"
   ]
  },
  {
   "cell_type": "code",
   "execution_count": 17,
   "id": "e252e3dd",
   "metadata": {},
   "outputs": [
    {
     "name": "stdout",
     "output_type": "stream",
     "text": [
      "Nearest K Negi:  [[2.0, 'O'], [2.0, 'O'], [2.8284271247461903, 'B']]\n"
     ]
    },
    {
     "data": {
      "text/plain": [
       "['O']"
      ]
     },
     "execution_count": 17,
     "metadata": {},
     "output_type": "execute_result"
    }
   ],
   "source": [
    "n = KNN(3)\n",
    "n.fit(x, y)\n",
    "n.predict(test)"
   ]
  },
  {
   "cell_type": "code",
   "execution_count": 18,
   "id": "b1936981",
   "metadata": {},
   "outputs": [
    {
     "name": "stdout",
     "output_type": "stream",
     "text": [
      "Nearest K Negi:  [[2.0, 'O'], [2.0, 'O'], [2.8284271247461903, 'B']]\n",
      "{'O': 0.5, 'B': 0.35355339059327373}\n",
      "{'O': 2, 'B': 1}\n"
     ]
    },
    {
     "data": {
      "text/plain": [
       "[None]"
      ]
     },
     "execution_count": 18,
     "metadata": {},
     "output_type": "execute_result"
    }
   ],
   "source": [
    "n = KNN(3, 'distance_weighted')\n",
    "n.fit(x, y)\n",
    "n.predict(test)"
   ]
  },
  {
   "cell_type": "code",
   "execution_count": null,
   "id": "ee6b419f",
   "metadata": {},
   "outputs": [],
   "source": []
  }
 ],
 "metadata": {
  "kernelspec": {
   "display_name": "Python 3",
   "language": "python",
   "name": "python3"
  },
  "language_info": {
   "codemirror_mode": {
    "name": "ipython",
    "version": 3
   },
   "file_extension": ".py",
   "mimetype": "text/x-python",
   "name": "python",
   "nbconvert_exporter": "python",
   "pygments_lexer": "ipython3",
   "version": "3.9.5"
  }
 },
 "nbformat": 4,
 "nbformat_minor": 5
}
