{
 "cells": [
  {
   "cell_type": "code",
   "execution_count": 13,
   "id": "71860aba",
   "metadata": {},
   "outputs": [],
   "source": [
    "import matplotlib.pyplot as plt\n",
    "import numpy as np\n",
    "import math"
   ]
  },
  {
   "cell_type": "code",
   "execution_count": 4,
   "id": "5750690f",
   "metadata": {},
   "outputs": [
    {
     "name": "stdout",
     "output_type": "stream",
     "text": [
      "[[0.1, 0.6], [0.15, 0.71], [0.08, 0.9], [0.16, 0.85], [0.2, 0.3], [0.25, 0.5], [0.24, 0.1], [0.3, 0.2]]\n",
      "[[0.1  0.6 ]\n",
      " [0.15 0.71]\n",
      " [0.08 0.9 ]\n",
      " [0.16 0.85]\n",
      " [0.2  0.3 ]\n",
      " [0.25 0.5 ]\n",
      " [0.24 0.1 ]\n",
      " [0.3  0.2 ]]\n"
     ]
    }
   ],
   "source": [
    "P1 = [0.1, 0.6]\n",
    "P2=[0.15,0.71]\n",
    "P3=[0.08,0.9] \n",
    "P4=[0.16, 0.85] \n",
    "P5=[0.2,0.3]\n",
    "P6=[0.25,0.5]\n",
    "P7=[0.24,0.1]\n",
    "P8=[0.3,0.2]\n",
    "K=2\n",
    "\n",
    "points = [P1, P2, P3, P4, P5, P6, P7, P8]\n",
    "print(points)\n",
    "X = np.array(points)\n",
    "print(X)"
   ]
  },
  {
   "cell_type": "code",
   "execution_count": null,
   "id": "930af8ba",
   "metadata": {},
   "outputs": [],
   "source": [
    "# Using Sklean"
   ]
  },
  {
   "cell_type": "code",
   "execution_count": 7,
   "id": "eb7b8dab",
   "metadata": {},
   "outputs": [
    {
     "name": "stdout",
     "output_type": "stream",
     "text": [
      "[1 1 1 1 0 0 0 0]\n"
     ]
    },
    {
     "data": {
      "image/png": "[encoded data removed]",
      "text/plain": [
       "<Figure size 432x288 with 1 Axes>"
      ]
     },
     "metadata": {
      "needs_background": "light"
     },
     "output_type": "display_data"
    }
   ],
   "source": [
    "from sklearn.cluster import KMeans\n",
    "cluster_centers = [P1, P8]\n",
    "num_classes = len(cluster_centers)\n",
    "\n",
    "kmeans = KMeans(init='k-means++', n_clusters=num_classes)\n",
    "kmeans.fit(X)\n",
    "Y = kmeans.predict(X)\n",
    "print(Y)\n",
    "\n",
    "color = list(map(lambda x: \"blue\" if x==1 else 'red', Y))\n",
    "plt.scatter(X[:, 0], X[:, 1], c=color, marker='o')\n",
    "plt.title(\"2 clusters\")\n",
    "plt.show()"
   ]
  },
  {
   "cell_type": "code",
   "execution_count": 9,
   "id": "0fd5e952",
   "metadata": {},
   "outputs": [
    {
     "data": {
      "text/plain": [
       "array([[0.2475, 0.275 ],\n",
       "       [0.1225, 0.765 ]])"
      ]
     },
     "execution_count": 9,
     "metadata": {},
     "output_type": "execute_result"
    }
   ],
   "source": [
    "kmeans.cluster_centers_"
   ]
  },
  {
   "cell_type": "code",
   "execution_count": null,
   "id": "fc011f4c",
   "metadata": {},
   "outputs": [],
   "source": [
    "# FROM scratch"
   ]
  },
  {
   "cell_type": "code",
   "execution_count": 28,
   "id": "a37caa29",
   "metadata": {},
   "outputs": [],
   "source": [
    "def distance(p1, p2):\n",
    "    d=0\n",
    "    d+= (p1[0] - p2[0])**2 + (p1[1] - p2[1])**2\n",
    "    return math.sqrt(d)\n",
    "\n",
    "def cluster(C1, C2):\n",
    "    c1 = C1\n",
    "    c2 = C2\n",
    "    cluster1 = list()\n",
    "    cluster2 = list()\n",
    "    \n",
    "    for p in points:\n",
    "        d1 = distance(p, C1)\n",
    "        d2 = distance(p, C2)\n",
    "        if d1<d2:\n",
    "            cluster1.append(p)\n",
    "            x,y = 0,0\n",
    "            for i in cluster1:\n",
    "                x+=i[0]\n",
    "                y+=i[1]\n",
    "            C1 = [x/len(cluster1), y/len(cluster1)]\n",
    "        else:\n",
    "            cluster2.append(p)\n",
    "            x,y = 0,0\n",
    "            for i in cluster2:\n",
    "                x+=i[0]\n",
    "                y+=i[1]\n",
    "            C2 = [x/len(cluster2), y/len(cluster2)]\n",
    "    print(C1)\n",
    "    print(C2)    \n",
    "    print(c1)    \n",
    "    print(c2)    \n",
    "    print(cluster1)\n",
    "    print(cluster2)\n",
    "        \n",
    "    if C1[0]==c1[0] and C1[1]==c1[1] and C2[0]==c2[0] and C2[0]==c2[0]:\n",
    "        print(\"Clusters are:\")\n",
    "        print(cluster1)\n",
    "        print(cluster2)\n",
    "    \n",
    "        \n",
    "    \n",
    "        if P6 in cluster1:\n",
    "            print(\"P6 in cls1\")\n",
    "        else:\n",
    "            print(\"P6 in cls2\")\n",
    "            \n",
    "        print(\"Population of cluster around m2:\",len(cluster2))\n",
    "        print(\"Updated value of centroids:\")\n",
    "        print(\"C1:\",C1)\n",
    "        print(\"C2:\",C2)\n",
    "        \n",
    "        Y=list()\n",
    "        for i in points:\n",
    "            if i in cluster1:\n",
    "                Y.append(1)\n",
    "            else:\n",
    "                Y.append(0)\n",
    "        colors = list(map(lambda x: 'blue' if x == 1 else 'red', Y))\n",
    "        plt.scatter(X[:,0], X[:,1], c=colors, marker=\"o\")\n",
    "        plt.plot(C1[0],C1[1],marker=\"*\",color='black')\n",
    "        plt.plot(C2[0],C2[1],marker=\"*\",color='black')\n",
    "        plt.title('Two clusters of data')\n",
    "        plt.show()\n",
    "    \n",
    "    else:\n",
    "        cluster(C1, C2)"
   ]
  },
  {
   "cell_type": "code",
   "execution_count": 29,
   "id": "aa5117c4",
   "metadata": {},
   "outputs": [
    {
     "name": "stdout",
     "output_type": "stream",
     "text": [
      "[0.1225, 0.765]\n",
      "[0.2475, 0.275]\n",
      "[0.1, 0.6]\n",
      "[0.3, 0.2]\n",
      "[[0.1, 0.6], [0.15, 0.71], [0.08, 0.9], [0.16, 0.85]]\n",
      "[[0.2, 0.3], [0.25, 0.5], [0.24, 0.1], [0.3, 0.2]]\n",
      "[0.1225, 0.765]\n",
      "[0.2475, 0.275]\n",
      "[0.1225, 0.765]\n",
      "[0.2475, 0.275]\n",
      "[[0.1, 0.6], [0.15, 0.71], [0.08, 0.9], [0.16, 0.85]]\n",
      "[[0.2, 0.3], [0.25, 0.5], [0.24, 0.1], [0.3, 0.2]]\n",
      "Clusters are:\n",
      "[[0.1, 0.6], [0.15, 0.71], [0.08, 0.9], [0.16, 0.85]]\n",
      "[[0.2, 0.3], [0.25, 0.5], [0.24, 0.1], [0.3, 0.2]]\n",
      "P6 in cls2\n",
      "Population of cluster around m2: 4\n",
      "Updated value of centroids:\n",
      "C1: [0.1225, 0.765]\n",
      "C2: [0.2475, 0.275]\n"
     ]
    },
    {
     "data": {
      "image/png": "[encoded data removed]",
      "text/plain": [
       "<Figure size 432x288 with 1 Axes>"
      ]
     },
     "metadata": {
      "needs_background": "light"
     },
     "output_type": "display_data"
    }
   ],
   "source": [
    "C1=P1\n",
    "C2=P8\n",
    "cluster(C1,C2)"
   ]
  },
  {
   "cell_type": "code",
   "execution_count": null,
   "id": "ab0aa541",
   "metadata": {},
   "outputs": [],
   "source": []
  }
 ],
 "metadata": {
  "kernelspec": {
   "display_name": "Python 3",
   "language": "python",
   "name": "python3"
  },
  "language_info": {
   "codemirror_mode": {
    "name": "ipython",
    "version": 3
   },
   "file_extension": ".py",
   "mimetype": "text/x-python",
   "name": "python",
   "nbconvert_exporter": "python",
   "pygments_lexer": "ipython3",
   "version": "3.9.5"
  }
 },
 "nbformat": 4,
 "nbformat_minor": 5
}
